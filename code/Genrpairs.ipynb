{
 "cells": [
  {
   "cell_type": "code",
   "execution_count": 7,
   "metadata": {
    "collapsed": false,
    "deletable": true,
    "editable": true,
    "scrolled": true
   },
   "outputs": [],
   "source": [
    "import requests\n",
    "import json\n",
    "import time\n",
    "import itertools\n",
    "import wget\n",
    "import os\n",
    "import pickle\n",
    "import numpy as np\n",
    "import tmdbsimple as tmdb\n",
    "import imdb\n",
    "import time\n",
    "import sys\n",
    "\n",
    "import random\n",
    "import matplotlib\n",
    "import matplotlib.pyplot as plt\n",
    "%matplotlib inline\n",
    "\n",
    "import seaborn as sns\n",
    "from sklearn.cluster.bicluster import SpectralCoclustering\n",
    "from sklearn.metrics import precision_recall_curve\n",
    "import scipy\n",
    "\n",
    "sns.set_style('white')\n",
    "import tensorflow as tf\n",
    "import pandas as pd\n",
    "import keras\n",
    "from imdb import IMDb\n",
    "from keras.models import Sequential\n",
    "from keras.layers import Dense,Dropout,Flatten\n",
    "from keras.layers import Conv2D, MaxPooling2D\n",
    "from keras import backend as k\n",
    "from keras.models import load_model"
   ]
  },
  {
   "cell_type": "markdown",
   "metadata": {
    "collapsed": true,
    "deletable": true,
    "editable": true
   },
   "source": [
    "### Acquiring Genre From IMDB :\n",
    "\n",
    "\n",
    "<br>"
   ]
  },
  {
   "cell_type": "code",
   "execution_count": 3,
   "metadata": {
    "collapsed": false,
    "deletable": true,
    "editable": true,
    "scrolled": false
   },
   "outputs": [
    {
     "name": "stdout",
     "output_type": "stream",
     "text": [
      " genre current length: 100  movie id: 35173"
     ]
    }
   ],
   "source": [
    "# Create an IMDB object\n",
    "ia = IMDb()\n",
    "\n",
    "# Initiate the genre List\n",
    "g_imdb = []\n",
    "\n",
    "# initiate counters\n",
    "i, idm = 0, 0\n",
    "\n",
    "while i < 100 :\n",
    "    \n",
    "    \n",
    "    \n",
    "    # Specify the movie id\n",
    "    movie = str(35000 + idm)\n",
    "    \n",
    "    # get the movie \n",
    "    mv = ia.get_movie(movie)\n",
    "    \n",
    "    # Pause\n",
    "    time.sleep(1)\n",
    "    \n",
    "    # Check the country\n",
    "    if mv['country'][0] == 'USA':\n",
    "        \n",
    "        \n",
    "        # Append the genre\n",
    "        g_imdb.append(mv['genre'])\n",
    "        \n",
    "        # increase the counter\n",
    "        i += 1\n",
    "    \n",
    "    # increase the id index\n",
    "    idm += 1\n",
    "    \n",
    "    # print output result\n",
    "    sys.stdout.flush()\n",
    "    sys.stdout.write(\"\\r genre current length: {}  movie id: {}\".format(i , 35000 + idm))"
   ]
  },
  {
   "cell_type": "markdown",
   "metadata": {},
   "source": [
    "#### Cleaning and re-arranging"
   ]
  },
  {
   "cell_type": "code",
   "execution_count": 4,
   "metadata": {
    "collapsed": false,
    "deletable": true,
    "editable": true
   },
   "outputs": [],
   "source": [
    "# Construct a list of ascii characters:\n",
    "# -------------------------------------\n",
    "\n",
    "# initiate the list\n",
    "imdb_list = []\n",
    "\n",
    "# Loop over the length of the acquired genres\n",
    "for g in g_imdb:\n",
    "    \n",
    "    # Select the movies with more than one genre\n",
    "    if len(g)>=2:\n",
    "        \n",
    "        # intiate the individual movie gene list\n",
    "        mv = []\n",
    "        \n",
    "        # Extract the ascii genre\n",
    "        for i in range(len(g)):\n",
    "            \n",
    "            # Append to the movie genre list\n",
    "            mv.append(str(g[i]))\n",
    "        \n",
    "        # Append to the imddb list\n",
    "        imdb_list.append(mv)\n",
    "          "
   ]
  },
  {
   "cell_type": "markdown",
   "metadata": {
    "deletable": true,
    "editable": true
   },
   "source": [
    "### Acquiring from TMDB:\n",
    "\n",
    "\n",
    "<br>"
   ]
  },
  {
   "cell_type": "code",
   "execution_count": 5,
   "metadata": {
    "collapsed": false,
    "deletable": true,
    "editable": true
   },
   "outputs": [
    {
     "name": "stdout",
     "output_type": "stream",
     "text": [
      " genre length : 100  movie id : 849"
     ]
    }
   ],
   "source": [
    "# Accessing the TMDB\n",
    "tmdb.API_KEY = '95b208af4c92eb1ddd5c831f91c84e15'\n",
    "\n",
    "# Initiate the genre List\n",
    "g_tmdb = []\n",
    "\n",
    "# initiate counters\n",
    "i = 0\n",
    "\n",
    "while i < 100 :\n",
    "    \n",
    "    # Specify the movie id\n",
    "    movie = 750+ i\n",
    "    \n",
    "    # get the movie \n",
    "    mv = tmdb.Movies(movie)\n",
    "    response = mv.info()\n",
    "    \n",
    "    # Pause\n",
    "    time.sleep(0.5)\n",
    "    \n",
    "    # Append the genre\n",
    "    g_tmdb.append(mv.genres)\n",
    "        \n",
    "    # increase the counter\n",
    "    i += 1\n",
    "    \n",
    "    # output result\n",
    "    sys.stdout.write('\\r genre length : {}  movie id : {}'.format(i , movie))"
   ]
  },
  {
   "cell_type": "markdown",
   "metadata": {
    "deletable": true,
    "editable": true
   },
   "source": [
    "#### Cleaning and re-arranging"
   ]
  },
  {
   "cell_type": "code",
   "execution_count": 6,
   "metadata": {
    "collapsed": false,
    "deletable": true,
    "editable": true
   },
   "outputs": [],
   "source": [
    "# Construct a list of ascii characters:\n",
    "# -------------------------------------\n",
    "\n",
    "# initiate the list\n",
    "tmdb_list = []\n",
    "\n",
    "# Loop over the length of the acquired genres\n",
    "for g in g_tmdb:\n",
    "    \n",
    "    # Select the movies with more than one genre\n",
    "    if len(g)>=2:\n",
    "        \n",
    "        # intiate the individual movie gene list\n",
    "        mv = []\n",
    "        \n",
    "        # Extract the ascii genre\n",
    "        for i in range(len(g)):\n",
    "            \n",
    "            # Append to the movie genre list\n",
    "            mv.append(str(g[i]['name']))\n",
    "        \n",
    "        # Append to the imddb list\n",
    "        tmdb_list.append(mv)\n",
    "          "
   ]
  },
  {
   "cell_type": "markdown",
   "metadata": {
    "deletable": true,
    "editable": true
   },
   "source": [
    "### Merging Both and construct a unique array of genres:\n",
    "\n",
    "\n",
    "<br>"
   ]
  },
  {
   "cell_type": "code",
   "execution_count": 7,
   "metadata": {
    "collapsed": false
   },
   "outputs": [],
   "source": [
    "# Merging Both Lists\n",
    "# ------------------\n",
    "\n",
    "# Initiate the merged array\n",
    "genre_list = []\n",
    "\n",
    "# Adding the IMBD list items\n",
    "for gi in imdb_list:\n",
    "    \n",
    "    # Append to the merged list\n",
    "    genre_list.append(gi)\n",
    "    \n",
    "# Adding the TMDB list items\n",
    "for gt in tmdb_list:\n",
    "    \n",
    "    # Append to the merged list\n",
    "    genre_list.append(gt)"
   ]
  },
  {
   "cell_type": "code",
   "execution_count": 8,
   "metadata": {
    "collapsed": false,
    "deletable": true,
    "editable": true
   },
   "outputs": [],
   "source": [
    "# Construct an aggregated array of genres:\n",
    "# ---------------------------------------\n",
    "\n",
    "# initiate the overall list of all aggregated genres (to extract the unique array)\n",
    "longlist = []\n",
    "\n",
    "# Iterrate over the length of the transformed list\n",
    "for lst in genre_list:\n",
    "    \n",
    "    # iterrate for each item in each individual list\n",
    "    for i in range(len(lst)):\n",
    "        \n",
    "        # Append to the original list\n",
    "        longlist.append(lst[i])\n",
    "\n",
    "# Construct a unique array:\n",
    "#--------------------------\n",
    "\n",
    "# Construct the unique vector\n",
    "unique_genre = np.unique(np.array(longlist))\n",
    "\n",
    "# Length of the unique genre array\n",
    "L = len(unique_genre)"
   ]
  },
  {
   "cell_type": "code",
   "execution_count": 9,
   "metadata": {
    "collapsed": false
   },
   "outputs": [
    {
     "name": "stdout",
     "output_type": "stream",
     "text": [
      "['Action' 'Adventure' 'Animation' 'Biography' 'Comedy' 'Crime'\n",
      " 'Documentary' 'Drama' 'Family' 'Fantasy' 'Film-Noir' 'Foreign' 'History'\n",
      " 'Horror' 'Music' 'Musical' 'Mystery' 'Romance' 'Sci-Fi' 'Science Fiction'\n",
      " 'Short' 'Sport' 'Thriller' 'War' 'Western']\n"
     ]
    }
   ],
   "source": [
    "print unique_genre"
   ]
  },
  {
   "cell_type": "markdown",
   "metadata": {
    "deletable": true,
    "editable": true
   },
   "source": [
    "### Constructing the genre doubles matrix :\n",
    "\n",
    "\n",
    "<br>"
   ]
  },
  {
   "cell_type": "code",
   "execution_count": 10,
   "metadata": {
    "collapsed": false,
    "deletable": true,
    "editable": true
   },
   "outputs": [],
   "source": [
    "# Function to define the indices of the genres in the Matrix\n",
    "# -----------------------------------------------------------\n",
    "\n",
    "def genre_couple(genre1 , genre2):\n",
    "    \n",
    "    # Search for match\n",
    "    for i , gen in enumerate(unique_genre):\n",
    "        \n",
    "        # Look for first one\n",
    "        if gen == genre1:\n",
    "            \n",
    "            # get the index\n",
    "            a = i\n",
    "            \n",
    "        # Look for Second one    \n",
    "        if gen ==genre2:\n",
    "            \n",
    "            # Get the index\n",
    "            b = i\n",
    "            \n",
    "    return a,b\n",
    "    \n",
    "   "
   ]
  },
  {
   "cell_type": "code",
   "execution_count": 11,
   "metadata": {
    "collapsed": false
   },
   "outputs": [],
   "source": [
    "# Building the Matrix:\n",
    "# -------------------\n",
    "\n",
    "# Initiate the matrix\n",
    "Genre_Matrix = np.zeros((L,L))\n",
    "\n",
    "# Analyze each movie entry\n",
    "for mov in genre_list:\n",
    "    \n",
    "    # length of the genre labels\n",
    "    lgen = len(mov)\n",
    "    \n",
    "    # Select couples of movies\n",
    "    for i in range(lgen - 1):\n",
    "        \n",
    "        # Select the second genre\n",
    "        for j in range(i+1 , lgen):\n",
    "            \n",
    "            # Extract the indices in the Genre Matrix\n",
    "            x , y = genre_couple(mov[i] , mov[j])\n",
    "            \n",
    "            # Add a frequency count to the Matrix\n",
    "            Genre_Matrix[x,y] += 1\n",
    "            \n",
    "# Genrate a frequency based probability\n",
    "Genre = Genre_Matrix / np.sum(Genre_Matrix)\n"
   ]
  },
  {
   "cell_type": "markdown",
   "metadata": {},
   "source": [
    "### Produce the Vizualization\n",
    "\n",
    "<br>"
   ]
  },
  {
   "cell_type": "code",
   "execution_count": 12,
   "metadata": {
    "collapsed": false
   },
   "outputs": [
    {
     "data": {
      "image/png": "[encoded data removed]",
      "text/plain": [
       "<matplotlib.figure.Figure at 0x7f8cb018a2d0>"
      ]
     },
     "metadata": {},
     "output_type": "display_data"
    }
   ],
   "source": [
    "# Build a heatmap figure\n",
    "\n",
    "fig = plt.figure (figsize = (10,10))\n",
    "ind = np.arange(L)\n",
    "width = 0.5\n",
    "c_map = plt.get_cmap('summer')\n",
    "\n",
    "# Generate the heatmap\n",
    "\n",
    "ax1 = fig.add_subplot(1,1,1)\n",
    "ax1.pcolor(Genre , cmap = c_map)\n",
    "ax1.set_title('Analysis of Genre Pairs Frequency')\n",
    "ax1.set_xticks(ind + width)\n",
    "ax1.set_yticks(ind + width)\n",
    "ax1.set_xticklabels(unique_genre , rotation = 'vertical')\n",
    "ax1.set_yticklabels(unique_genre)\n",
    "\n",
    "plt.show()"
   ]
  },
  {
   "cell_type": "markdown",
   "metadata": {},
   "source": [
    "#### Observations:\n",
    "\n",
    "<br>\n",
    "    - If more than two ratings were assigned to the movie, each individual pair is considered\n",
    "    - The most paired genres are \"Drama\" and \"Romance\"\n",
    "    - \"Film-Noir\" is rarely rated and hence not paired quiet often"
   ]
  }
 ],
 "metadata": {
  "anaconda-cloud": {},
  "kernelspec": {
   "display_name": "Python [conda env:py27]",
   "language": "python",
   "name": "conda-env-py27-py"
  }
 },
 "nbformat": 4,
 "nbformat_minor": 2
}
