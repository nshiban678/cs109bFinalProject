{
 "cells": [
  {
   "cell_type": "code",
   "execution_count": 8,
   "metadata": {
    "collapsed": true
   },
   "outputs": [],
   "source": [
    "import requests\n",
    "import json\n",
    "import time\n",
    "import itertools\n",
    "import wget\n",
    "import os\n",
    "import pickle\n",
    "import numpy as np\n",
    "import tmdbsimple as tmdb\n",
    "import imdb\n",
    "import time\n",
    "import sys\n",
    "from imdb import IMDb\n",
    "import requests\n",
    "import urllib\n",
    "\n",
    "import random\n",
    "import matplotlib\n",
    "import matplotlib.pyplot as plt\n",
    "%matplotlib inline"
   ]
  },
  {
   "cell_type": "code",
   "execution_count": 9,
   "metadata": {
    "collapsed": true
   },
   "outputs": [],
   "source": [
    "def imdb_id_from_title(title):\n",
    "    \"\"\" return IMDB id for search string\n",
    "        Args::\n",
    "            title (str): the movie title search string\n",
    "        Returns: \n",
    "            str. IMDB id\n",
    "            None. If no match was found\n",
    "    \"\"\"\n",
    "    pattern = 'http://www.imdb.com/xml/find?json=1&nr=1&tt=on&q={movie_title}'\n",
    "    url = pattern.format(movie_title=urllib.quote(title))\n",
    "    r = requests.get(url)\n",
    "    res = r.json()\n",
    "    # sections in descending order or preference\n",
    "    for section in ['popular','exact','substring']:\n",
    "        key = 'title_' + section \n",
    "        if key in res:\n",
    "            return res[key][0]['id']"
   ]
  },
  {
   "cell_type": "code",
   "execution_count": 15,
   "metadata": {
    "collapsed": false
   },
   "outputs": [
    {
     "data": {
      "text/plain": [
       "[{u'id': 18, u'name': u'Drama'},\n",
       " {u'id': 10749, u'name': u'Romance'},\n",
       " {u'id': 53, u'name': u'Thriller'}]"
      ]
     },
     "execution_count": 15,
     "metadata": {},
     "output_type": "execute_result"
    }
   ],
   "source": [
    "# Accessing the TMDB\n",
    "tmdb.API_KEY = '95b208af4c92eb1ddd5c831f91c84e15'\n",
    "movie = imdb_id_from_title(\"Titanic\")\n",
    "mv = tmdb.Movies(movie)\n",
    "response = mv.info()\n",
    "\n",
    "# Find the genre for favorite move in TMDb\n",
    "mv.genres"
   ]
  },
  {
   "cell_type": "code",
   "execution_count": 25,
   "metadata": {
    "collapsed": false
   },
   "outputs": [
    {
     "data": {
      "text/plain": [
       "[u'Drama', u'Romance']"
      ]
     },
     "execution_count": 25,
     "metadata": {},
     "output_type": "execute_result"
    }
   ],
   "source": [
    "# Create an IMDB object\n",
    "movie = imdb_id_from_title(\"Titanic\")[2:]\n",
    "ia = IMDb()\n",
    " \n",
    "# get the movie \n",
    "mv = ia.get_movie(movie)\n",
    "\n",
    "# Find the genre for favorite move in IMDb\n",
    "mv['genre']"
   ]
  }
 ],
 "metadata": {
  "anaconda-cloud": {},
  "kernelspec": {
   "display_name": "Python [conda env:py27]",
   "language": "python",
   "name": "conda-env-py27-py"
  },
  "language_info": {
   "codemirror_mode": {
    "name": "ipython",
    "version": 2
   },
   "file_extension": ".py",
   "mimetype": "text/x-python",
   "name": "python",
   "nbconvert_exporter": "python",
   "pygments_lexer": "ipython2",
   "version": "2.7.12"
  }
 },
 "nbformat": 4,
 "nbformat_minor": 2
}
