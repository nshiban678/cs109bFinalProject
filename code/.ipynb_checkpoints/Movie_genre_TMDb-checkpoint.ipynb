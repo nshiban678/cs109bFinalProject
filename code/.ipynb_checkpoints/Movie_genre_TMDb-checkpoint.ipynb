{
 "cells": [
  {
   "cell_type": "code",
   "execution_count": null,
   "metadata": {
    "collapsed": false,
    "deletable": true,
    "editable": true
   },
   "outputs": [],
   "source": [
    "import json\n",
    "import requests\n",
    "import os\n",
    "\n",
    "def Genres(TMDB):\n",
    "    \n",
    "    BASE_PATH = 'genre'\n",
    "    URLS = {\n",
    "        'list': '/list',\n",
    "        'movies': '/{id}/movies',\n",
    "    }\n",
    " \n",
    "    path = (BASE_PATH + URLS.get('movies')).format(id=id)\n",
    "    API_KEY = os.environ.get('TMDB_API_KEY', None)\n",
    "    API_VERSION = '3'\n",
    "    base_uri = 'https://api.themoviedb.org'\n",
    "    base_uri += '/{version}'.format(version=API_VERSION)\n",
    "    params=None\n",
    "    payload=None\n",
    "    url = '{base_uri}/{path}'.format(base_uri=base_uri, path=path)\n",
    "    if not API_KEY:\n",
    "        raise APIKeyError\n",
    "    api_dict = {'api_key': API_KEY}\n",
    "    if params:\n",
    "        params.update(api_dict)\n",
    "    else:\n",
    "        params = api_dict    \n",
    "    method = 'GET'\n",
    "    params=None\n",
    "    response = requests.request(\n",
    "        method, url, params=params, \n",
    "        data=json.dumps(payload) if payload else payload,\n",
    "        headers=self.headers)\n",
    "    response.raise_for_status()\n",
    "    response.encoding = 'utf-8'\n",
    "    response = response.json()\n",
    "    response={}\n",
    "    if isinstance(response, dict):\n",
    "        for key in response.keys():\n",
    "            setattr(key, response[key])\n",
    "    return response"
   ]
  },
  {
   "cell_type": "code",
   "execution_count": null,
   "metadata": {
    "collapsed": true,
    "deletable": true,
    "editable": true
   },
   "outputs": [],
   "source": []
  }
 ],
 "metadata": {
  "kernelspec": {
   "display_name": "Python 2",
   "language": "python",
   "name": "python2"
  },
  "language_info": {
   "codemirror_mode": {
    "name": "ipython",
    "version": 2
   },
   "file_extension": ".py",
   "mimetype": "text/x-python",
   "name": "python",
   "nbconvert_exporter": "python",
   "pygments_lexer": "ipython2",
   "version": "2.7.12"
  }
 },
 "nbformat": 4,
 "nbformat_minor": 2
}
